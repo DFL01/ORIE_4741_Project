{
  "nbformat": 4,
  "nbformat_minor": 0,
  "metadata": {
    "colab": {
      "provenance": []
    },
    "kernelspec": {
      "name": "python3",
      "display_name": "Python 3"
    },
    "language_info": {
      "name": "python"
    }
  },
  "cells": [
    {
      "cell_type": "code",
      "execution_count": 70,
      "metadata": {
        "id": "GIr4xaBMxmD5"
      },
      "outputs": [],
      "source": [
        "import pandas as pd\n",
        "import numpy as np\n",
        "from sklearn.model_selection import train_test_split\n",
        "from sklearn.linear_model import LinearRegression, LogisticRegression\n",
        "from sklearn.metrics import mean_squared_error, r2_score, accuracy_score, classification_report\n",
        "from sklearn.preprocessing import StandardScaler\n",
        "import matplotlib.pyplot as plt\n",
        "import seaborn as sns"
      ]
    },
    {
      "cell_type": "code",
      "source": [
        "traffic_data = pd.read_csv(\"Traffic_Volume_Counts.csv\")"
      ],
      "metadata": {
        "id": "Y8hB7P-ayPUf"
      },
      "execution_count": 71,
      "outputs": []
    },
    {
      "cell_type": "code",
      "source": [
        "traffic_data.shape"
      ],
      "metadata": {
        "colab": {
          "base_uri": "https://localhost:8080/"
        },
        "id": "mVmsAhcRWTPA",
        "outputId": "65b5674d-15fe-4aa3-f006-f9a78579e27b"
      },
      "execution_count": 72,
      "outputs": [
        {
          "output_type": "execute_result",
          "data": {
            "text/plain": [
              "(42756, 31)"
            ]
          },
          "metadata": {},
          "execution_count": 72
        }
      ]
    },
    {
      "cell_type": "code",
      "source": [
        "## Data Processing\n",
        "\n",
        "# 1.1: handling missing values\n",
        "traffic_data['Date'] = pd.to_datetime(traffic_data['Date'],errors='coerce')\n",
        "\n",
        "# 1.2 Filtering data specific to Broadway\n",
        "broadway_data = traffic_data[traffic_data['Roadway Name'].str.contains(\"Broadway\")]"
      ],
      "metadata": {
        "id": "ebl9DQjLXpEA"
      },
      "execution_count": 73,
      "outputs": []
    },
    {
      "cell_type": "code",
      "source": [
        "## Feature Engineering\n",
        "\n",
        "# 2.1: generating time features\n",
        "broadway_data.loc[:, 'day_of_week'] = broadway_data['Date'].dt.dayofweek\n",
        "broadway_data.loc[:, 'is_weekend'] = broadway_data['day_of_week'].apply(lambda x: 1 if x >= 5 else 0)\n",
        "broadway_data.loc[:, 'month'] = broadway_data['Date'].dt.month\n",
        "\n",
        "# 2.2: aggregating data\n",
        "hourly_columns = [col for col in broadway_data.columns if 'AM' in col or 'PM' in col]\n",
        "broadway_data.loc[:, 'daily_traffic_volume'] = broadway_data[hourly_columns].sum(axis=1)\n",
        "\n",
        "# 2.3: selecting features\n",
        "features = broadway_data[['day_of_week', 'is_weekend', 'month']]\n",
        "target = broadway_data['daily_traffic_volume']"
      ],
      "metadata": {
        "colab": {
          "base_uri": "https://localhost:8080/"
        },
        "id": "D5_GeTaudYSN",
        "outputId": "234578f8-55e2-4043-af97-9eb2930ba9a1"
      },
      "execution_count": 74,
      "outputs": [
        {
          "output_type": "stream",
          "name": "stderr",
          "text": [
            "<ipython-input-74-738abfd24711>:4: SettingWithCopyWarning: \n",
            "A value is trying to be set on a copy of a slice from a DataFrame.\n",
            "Try using .loc[row_indexer,col_indexer] = value instead\n",
            "\n",
            "See the caveats in the documentation: https://pandas.pydata.org/pandas-docs/stable/user_guide/indexing.html#returning-a-view-versus-a-copy\n",
            "  broadway_data.loc[:, 'day_of_week'] = broadway_data['Date'].dt.dayofweek\n",
            "<ipython-input-74-738abfd24711>:5: SettingWithCopyWarning: \n",
            "A value is trying to be set on a copy of a slice from a DataFrame.\n",
            "Try using .loc[row_indexer,col_indexer] = value instead\n",
            "\n",
            "See the caveats in the documentation: https://pandas.pydata.org/pandas-docs/stable/user_guide/indexing.html#returning-a-view-versus-a-copy\n",
            "  broadway_data.loc[:, 'is_weekend'] = broadway_data['day_of_week'].apply(lambda x: 1 if x >= 5 else 0)\n",
            "<ipython-input-74-738abfd24711>:6: SettingWithCopyWarning: \n",
            "A value is trying to be set on a copy of a slice from a DataFrame.\n",
            "Try using .loc[row_indexer,col_indexer] = value instead\n",
            "\n",
            "See the caveats in the documentation: https://pandas.pydata.org/pandas-docs/stable/user_guide/indexing.html#returning-a-view-versus-a-copy\n",
            "  broadway_data.loc[:, 'month'] = broadway_data['Date'].dt.month\n",
            "<ipython-input-74-738abfd24711>:10: SettingWithCopyWarning: \n",
            "A value is trying to be set on a copy of a slice from a DataFrame.\n",
            "Try using .loc[row_indexer,col_indexer] = value instead\n",
            "\n",
            "See the caveats in the documentation: https://pandas.pydata.org/pandas-docs/stable/user_guide/indexing.html#returning-a-view-versus-a-copy\n",
            "  broadway_data.loc[:, 'daily_traffic_volume'] = broadway_data[hourly_columns].sum(axis=1)\n"
          ]
        }
      ]
    },
    {
      "cell_type": "code",
      "source": [
        "# 3 Visualization to see if scaling is necessary\n",
        "\n",
        "print(broadway_data[\"daily_traffic_volume\"].describe())\n",
        "\n",
        "broadway_data['daily_traffic_volume'].hist(bins=20,edgecolor='black')\n",
        "plt.title('Distribution of Daily Traffic Volume')\n",
        "plt.xlabel('Daily Traffic Volume')\n",
        "plt.ylabel('Frequency')\n",
        "plt.show()\n",
        "\n",
        "sns.boxplot(x=broadway_data['daily_traffic_volume'])\n",
        "plt.title('Box Plot of Daily Traffic Volume')\n",
        "plt.xlabel('Daily Traffic Volume')\n",
        "plt.show()"
      ],
      "metadata": {
        "colab": {
          "base_uri": "https://localhost:8080/",
          "height": 1000
        },
        "id": "70zjc0ILqPRE",
        "outputId": "f8890d06-ccf7-42af-cce3-52a74b8f1e0e"
      },
      "execution_count": 75,
      "outputs": [
        {
          "output_type": "stream",
          "name": "stdout",
          "text": [
            "count      423.000000\n",
            "mean     10619.848700\n",
            "std       5311.714444\n",
            "min       2130.000000\n",
            "25%       7140.000000\n",
            "50%       9791.000000\n",
            "75%      12414.000000\n",
            "max      28498.000000\n",
            "Name: daily_traffic_volume, dtype: float64\n"
          ]
        },
        {
          "output_type": "display_data",
          "data": {
            "text/plain": [
              "<Figure size 640x480 with 1 Axes>"
            ],
            "image/png": "[encoded data removed]"
          },
          "metadata": {}
        },
        {
          "output_type": "display_data",
          "data": {
            "text/plain": [
              "<Figure size 640x480 with 1 Axes>"
            ],
            "image/png": "[encoded data removed]"
          },
          "metadata": {}
        }
      ]
    },
    {
      "cell_type": "code",
      "source": [
        "# 4 data split using sklearn\n",
        "X_train, X_test, y_train,y_test = train_test_split(features,target, train_size = 0.8,test_size=0.2, random_state=21)"
      ],
      "metadata": {
        "id": "5-dRf9gvgBDR"
      },
      "execution_count": 76,
      "outputs": []
    },
    {
      "cell_type": "code",
      "source": [
        "# 5.1 linear regression model\n",
        "reg_model= LinearRegression()\n",
        "reg_model.fit(X_train, y_train)\n",
        "y_pred_reg = reg_model.predict(X_test)\n",
        "mse = mean_squared_error(y_test, y_pred_reg)\n",
        "r2 = r2_score(y_test, y_pred_reg)\n",
        "print(\"Linear Regression Model Metrics:\")\n",
        "print(\"Mean Squared Error:\",mse)\n",
        "print(\"R-squared:\", r2)\n",
        "\n",
        "# 5.2 logistic regression model\n",
        "low_threshold = target.quantile(0.25)\n",
        "high_threshold = target.quantile(0.75)\n",
        "print(\"Low threshold: \")\n",
        "print(low_threshold)\n",
        "print(\"High threshold: \")\n",
        "print(high_threshold)\n",
        "\n",
        "# categorizing the traffic volume for classification in logistic regression model\n",
        "y_train_categorized =pd.cut(y_train, bins=[0, low_threshold, high_threshold, float('inf')], labels=['Low', 'Medium', 'High'])\n",
        "y_test_categorized = pd.cut(y_test, bins=[0, low_threshold, high_threshold, float('inf')], labels=['Low', 'Medium', 'High'])\n",
        "\n",
        "log_reg_model= LogisticRegression()\n",
        "log_reg_model.fit(X_train, y_train_categorized)\n",
        "y_pred_class= log_reg_model.predict(X_test)\n",
        "accuracy = accuracy_score(y_test_categorized, y_pred_class)\n",
        "class_report =classification_report(y_test_categorized, y_pred_class)\n",
        "\n",
        "print(\"Logistic Regression Model Metrics:\")\n",
        "print(\"Accuracy:\", accuracy)\n",
        "print(class_report)"
      ],
      "metadata": {
        "colab": {
          "base_uri": "https://localhost:8080/"
        },
        "id": "0_Td38CquwMZ",
        "outputId": "daa02560-a85f-407e-be9a-b9c8a609f535"
      },
      "execution_count": 78,
      "outputs": [
        {
          "output_type": "stream",
          "name": "stdout",
          "text": [
            "Linear Regression Model Metrics:\n",
            "Mean Squared Error: 26653726.83142919\n",
            "R-squared: 0.02097216803475599\n",
            "Low threshold: \n",
            "7140.0\n",
            "High threshold: \n",
            "12414.0\n",
            "Logistic Regression Model Metrics:\n",
            "Accuracy: 0.4470588235294118\n",
            "              precision    recall  f1-score   support\n",
            "\n",
            "        High       0.33      0.12      0.18        25\n",
            "         Low       0.00      0.00      0.00        20\n",
            "      Medium       0.46      0.88      0.60        40\n",
            "\n",
            "    accuracy                           0.45        85\n",
            "   macro avg       0.26      0.33      0.26        85\n",
            "weighted avg       0.31      0.45      0.34        85\n",
            "\n"
          ]
        },
        {
          "output_type": "stream",
          "name": "stderr",
          "text": [
            "/usr/local/lib/python3.10/dist-packages/sklearn/metrics/_classification.py:1344: UndefinedMetricWarning: Precision and F-score are ill-defined and being set to 0.0 in labels with no predicted samples. Use `zero_division` parameter to control this behavior.\n",
            "  _warn_prf(average, modifier, msg_start, len(result))\n",
            "/usr/local/lib/python3.10/dist-packages/sklearn/metrics/_classification.py:1344: UndefinedMetricWarning: Precision and F-score are ill-defined and being set to 0.0 in labels with no predicted samples. Use `zero_division` parameter to control this behavior.\n",
            "  _warn_prf(average, modifier, msg_start, len(result))\n",
            "/usr/local/lib/python3.10/dist-packages/sklearn/metrics/_classification.py:1344: UndefinedMetricWarning: Precision and F-score are ill-defined and being set to 0.0 in labels with no predicted samples. Use `zero_division` parameter to control this behavior.\n",
            "  _warn_prf(average, modifier, msg_start, len(result))\n"
          ]
        }
      ]
    }
  ]
}